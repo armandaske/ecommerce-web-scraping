{
 "cells": [
  {
   "cell_type": "code",
   "execution_count": 1,
   "metadata": {},
   "outputs": [
    {
     "name": "stderr",
     "output_type": "stream",
     "text": [
      "[WDM] - Current google-chrome version is 88.0.4324\n",
      "[WDM] - Get LATEST driver version for 88.0.4324\n",
      "[WDM] - Current google-chrome version is 88.0.4324\n",
      "[WDM] - Current google-chrome version is 88.0.4324\n",
      "[WDM] - Current google-chrome version is 88.0.4324\n",
      "[WDM] - Current google-chrome version is 88.0.4324\n",
      "[WDM] - Current google-chrome version is 88.0.4324\n",
      "[WDM] - Current google-chrome version is 88.0.4324\n",
      "[WDM] - Current google-chrome version is 88.0.4324\n",
      "[WDM] - Get LATEST driver version for 88.0.4324\n",
      "[WDM] - Get LATEST driver version for 88.0.4324\n",
      "[WDM] - Get LATEST driver version for 88.0.4324\n",
      "[WDM] - Get LATEST driver version for 88.0.4324\n",
      "[WDM] - Get LATEST driver version for 88.0.4324\n",
      "[WDM] - Get LATEST driver version for 88.0.4324\n",
      "[WDM] - Get LATEST driver version for 88.0.4324\n"
     ]
    },
    {
     "name": "stdout",
     "output_type": "stream",
     "text": [
      " \n",
      " \n",
      " \n",
      "  \n",
      "\n",
      " \n",
      " \n",
      " \n"
     ]
    },
    {
     "name": "stderr",
     "output_type": "stream",
     "text": [
      "[WDM] - Driver [C:\\Users\\Dell-G3\\.wdm\\drivers\\chromedriver\\win32\\88.0.4324.96\\chromedriver.exe] found in cache\n",
      "[WDM] - Driver [C:\\Users\\Dell-G3\\.wdm\\drivers\\chromedriver\\win32\\88.0.4324.96\\chromedriver.exe] found in cache\n",
      "[WDM] - Driver [C:\\Users\\Dell-G3\\.wdm\\drivers\\chromedriver\\win32\\88.0.4324.96\\chromedriver.exe] found in cache\n",
      "[WDM] - Driver [C:\\Users\\Dell-G3\\.wdm\\drivers\\chromedriver\\win32\\88.0.4324.96\\chromedriver.exe] found in cache\n",
      "[WDM] - Driver [C:\\Users\\Dell-G3\\.wdm\\drivers\\chromedriver\\win32\\88.0.4324.96\\chromedriver.exe] found in cache\n",
      "[WDM] - Driver [C:\\Users\\Dell-G3\\.wdm\\drivers\\chromedriver\\win32\\88.0.4324.96\\chromedriver.exe] found in cache\n",
      "[WDM] - Driver [C:\\Users\\Dell-G3\\.wdm\\drivers\\chromedriver\\win32\\88.0.4324.96\\chromedriver.exe] found in cache\n",
      "[WDM] - Driver [C:\\Users\\Dell-G3\\.wdm\\drivers\\chromedriver\\win32\\88.0.4324.96\\chromedriver.exe] found in cache\n"
     ]
    },
    {
     "name": "stdout",
     "output_type": "stream",
     "text": [
      "Scraping nested element on e-commerce website\n",
      "Error when trying to web scraping with urllib.reques\n",
      "Web scraping tables on college basketball stats\n",
      "Extracting Structured Events with Python [closed]\n",
      "How to pull records from multiple groups using python\n",
      "Why is my XPath to select text is not working?\n",
      "Delaying Application.OnTime on a loop\n",
      "Scraping website data with options in combo box VBA\n",
      "how to get a pdf file from coursehero?\n",
      "Scrape Data From A HTML Table [duplicate]\n",
      "framework to managing scrapy spiders\n",
      "getting [] as a result of scraping images from google with dart/flutter\n",
      "What do people scrape building permits for various countries? Will they spam people? Buy houses or what? How do they do money on that? [closed]\n",
      "How to parse an html page residing in a folder for web scraping in python?\n",
      "For loop web scraping a website brings up timeouterror, newconnectionerror and a requests.exceptions.ConnectionError\n",
      "Passing input to a python script using javascript and running it on button click\n",
      "Scraping and downloading excel files using python from url\n",
      "Scrape website, url doesn't change [python with beautiful soup] [closed]\n",
      "rvest - getting style attribute of any html element\n",
      "Web scraping - unable to get past login page using requests\n",
      "I get double quotes within JSON values when using request on URL. Handle without regex?\n",
      "Updating facebook post using Selenium: error- element not found but i can find in my browser\n",
      "How To Write For Loop Data Into a CSV file\n",
      "Python AttributeError: 'NoneType' object has no attribute 'find all' with BeautifulSoup\n"
     ]
    }
   ],
   "source": [
    "import requests\n",
    "from urllib.parse import urljoin\n",
    "from multiprocessing.dummy import Pool\n",
    "from bs4 import BeautifulSoup\n",
    "from selenium import webdriver\n",
    "from webdriver_manager.chrome import ChromeDriverManager\n",
    "from selenium.webdriver.chrome.options import Options\n",
    "import threading\n",
    "\n",
    "\n",
    "def get_links(link):\n",
    "    res = requests.get(link)\n",
    "    soup = BeautifulSoup(res.text,\"lxml\")\n",
    "    titles = [urljoin(url,items.get(\"href\")) for items in soup.select(\".summary .question-hyperlink\")]\n",
    "    return titles[0:24] #Limit the amount of pages to not oversaturate the scrapper\n",
    "\n",
    "threadLocal = threading.local()\n",
    "driver_instances =[]\n",
    "def get_driver():\n",
    "    driver = getattr(threadLocal, 'driver', None)\n",
    "    if driver is None:\n",
    "        options = Options()\n",
    "        options.headless = False\n",
    "        options.add_argument('window-size=1920x1080')\n",
    "        driver = webdriver.Chrome(ChromeDriverManager().install(), options=options)\n",
    "        driver_instances.append(driver)\n",
    "        setattr(threadLocal, 'driver', driver)\n",
    "    return driver\n",
    "\n",
    "\n",
    "def get_title(url):\n",
    "    driver = get_driver()\n",
    "    driver.get(url)\n",
    "    sauce = BeautifulSoup(driver.page_source,\"lxml\")\n",
    "    item = sauce.select_one(\"h1 a\").text\n",
    "    print(item)\n",
    "\n",
    "def close_drivers(driver):\n",
    "    driver.quit()\n",
    "\n",
    "if __name__ == '__main__':\n",
    "    url = \"https://stackoverflow.com/questions/tagged/web-scraping\"\n",
    "    Pool(8).map(get_title,get_links(url))    \n",
    "    Pool(8).map(close_drivers, driver_instances)"
   ]
  },
  {
   "cell_type": "code",
   "execution_count": null,
   "metadata": {},
   "outputs": [],
   "source": []
  }
 ],
 "metadata": {
  "kernelspec": {
   "display_name": "Python 3",
   "language": "python",
   "name": "python3"
  },
  "language_info": {
   "codemirror_mode": {
    "name": "ipython",
    "version": 3
   },
   "file_extension": ".py",
   "mimetype": "text/x-python",
   "name": "python",
   "nbconvert_exporter": "python",
   "pygments_lexer": "ipython3",
   "version": "3.7.6"
  }
 },
 "nbformat": 4,
 "nbformat_minor": 4
}
