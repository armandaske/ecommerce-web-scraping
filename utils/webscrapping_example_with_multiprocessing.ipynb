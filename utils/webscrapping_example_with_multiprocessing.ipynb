{
 "cells": [
  {
   "cell_type": "code",
   "execution_count": null,
   "metadata": {},
   "outputs": [],
   "source": [
    "#Straight forward way of crawling 2 links deep on the front page of The New York Times\n",
    "import requests\n",
    "from bs4 import BeautifulSoup\n",
    "\n",
    "num_of_links=15\n",
    "\n",
    "def get_links(url):\n",
    "    r = requests.get(url)\n",
    "    soup = BeautifulSoup(r.text, 'lxml')\n",
    "    return {e.get('href') for e in soup.find_all('a')\n",
    "            if e.get('href') and e.get('href').startswith('https')}\n",
    "\n",
    "links = get_links('https://www.nytimes.com')\n",
    "\n",
    "all_links = set()\n",
    "i=0\n",
    "for link in links:\n",
    "    if i>=num_of_links:\n",
    "        break\n",
    "    all_links |= get_links(link)\n",
    "    i+=1"
   ]
  },
  {
   "cell_type": "code",
   "execution_count": null,
   "metadata": {},
   "outputs": [],
   "source": [
    "#Using itertools (though the time doesn't improve much)\n",
    "import itertools as it\n",
    "import requests\n",
    "from bs4 import BeautifulSoup\n",
    "\n",
    "def get_links(url):\n",
    "    r = requests.get(url)\n",
    "    soup = BeautifulSoup(r.text, 'lxml')\n",
    "    return {e.get('href') for e in soup.find_all('a')\n",
    "            if e.get('href') and e.get('href').startswith('https')}\n",
    "\n",
    "links = get_links('https://www.nytimes.com')\n",
    "links_on_pages = map(get_links, links)\n",
    "all_links = set(it.chain.from_iterable(links_on_pages))"
   ]
  },
  {
   "cell_type": "code",
   "execution_count": null,
   "metadata": {},
   "outputs": [],
   "source": [
    "#using multiprocessing and itertools (still the computation time doesn't improve)\n",
    "from multiprocessing import Pool\n",
    "import itertools as it\n",
    "import requests\n",
    "from bs4 import BeautifulSoup\n",
    "\n",
    "def get_links(url):\n",
    "    r = requests.get(url)\n",
    "    soup = BeautifulSoup(r.text, 'lxml')\n",
    "    return {e.get('href') for e in soup.find_all('a')\n",
    "            if e.get('href') and e.get('href').startswith('https')}\n",
    "\n",
    "links = get_links('https://www.nytimes.com')\n",
    "\n",
    "with multiprocessing.Pool(20) as p:\n",
    "    links_on_pages = map(get_links, links)\n",
    "all_links = set(it.chain.from_iterable(links_on_pages))"
   ]
  },
  {
   "cell_type": "code",
   "execution_count": null,
   "metadata": {},
   "outputs": [],
   "source": [
    "#For the multiprocessing to work in juputer notebooks, I have to create a .py (a temporary one in this case) \n",
    "#and use the if __name__ == '__main__': part\n",
    "from multiprocessing import Pool\n",
    "import itertools as it\n",
    "import requests\n",
    "from bs4 import BeautifulSoup\n",
    "from functools import partial\n",
    "import inspect\n",
    "\n",
    "def parallal_task(func, iterable):\n",
    "\n",
    "    with open(f'./tmp_func.py', 'w') as file:\n",
    "        file.write(inspect.getsource(func).replace(func.__name__, \"task\"))\n",
    "        file.write('import requests \\n')\n",
    "        file.write('from bs4 import BeautifulSoup')\n",
    "\n",
    "    from tmp_func import task\n",
    "\n",
    "    if __name__ == '__main__':\n",
    "        pool = Pool(processes=20)\n",
    "        res = pool.map(task, iterable)\n",
    "        pool.close()\n",
    "        return res\n",
    "    else:\n",
    "        raise \"Not in Jupyter Notebook\"\n",
    "        \n",
    "def get_links(url):\n",
    "    r = requests.get(url)\n",
    "    soup = BeautifulSoup(r.text, 'lxml')\n",
    "    return {e.get('href') for e in soup.find_all('a')\n",
    "            if e.get('href') and e.get('href').startswith('https')}\n",
    "\n",
    "links = get_links('https://www.nytimes.com')\n",
    "links_on_pages = parallal_task(get_links, links)\n",
    "all_links = set(it.chain.from_iterable(links_on_pages))"
   ]
  },
  {
   "cell_type": "code",
   "execution_count": null,
   "metadata": {},
   "outputs": [],
   "source": [
    "all_links"
   ]
  },
  {
   "cell_type": "code",
   "execution_count": 90,
   "metadata": {},
   "outputs": [],
   "source": [
    "#CRAWLER TO DOWNLOAD PGN CHESS FILES FROM A WEBSITE\n",
    "from multiprocessing import Pool\n",
    "import requests\n",
    "from bs4 import BeautifulSoup\n",
    "import inspect\n",
    "\n",
    "def parallal_task(func, iterable):\n",
    "\n",
    "    with open(f'./tmp_func.py', 'w') as file:\n",
    "        file.write(inspect.getsource(func).replace(func.__name__, \"task\"))\n",
    "        file.write('import requests \\n')\n",
    "        file.write('from bs4 import BeautifulSoup')\n",
    "\n",
    "    from tmp_func import task\n",
    "\n",
    "    if __name__ == '__main__':\n",
    "        pool = Pool(processes=2)\n",
    "        res = pool.map(task, iterable) \n",
    "        pool.close()\n",
    "        return res\n",
    "    else:\n",
    "        raise \"Not in Jupyter Notebook\"\n",
    "        \n",
    "def req_links(itera):\n",
    "    url=itera[0]\n",
    "    folio=itera[1]\n",
    "    headers={\"user-agent\": \"Mozilla/5.0 (Windows NT 10.0; Win64; x64) AppleWebKit/537.36 (KHTML, like Gecko) Chrome/126.0.0.0 Safari/537.36 OPR/112.0.0.0\"}\n",
    "    r = requests.get(url,headers)\n",
    "    if r.status_code == 200:\n",
    "        # Save the content to a file\n",
    "        with open(f\"twic{folio}.zip\", \"wb\") as file:\n",
    "            file.write(r.content)\n",
    "        print(\"File downloaded successfully!\")\n",
    "    else:\n",
    "        print(f\"Failed to download file. Status code: {r.status_code}\")\n",
    "\n",
    "folios=list(range(1549,1545,-1) )       \n",
    "links = [f'https://theweekinchess.com/zips/twic{fol}g.zip' for fol in folios]\n",
    "links_on_pages = parallal_task(req_links, list(zip(links,folios)))"
   ]
  },
  {
   "cell_type": "code",
   "execution_count": 87,
   "metadata": {},
   "outputs": [
    {
     "data": {
      "text/plain": [
       "[('https://theweekinchess.com/zips/twic1549g.zip', 1549),\n",
       " ('https://theweekinchess.com/zips/twic1548g.zip', 1548),\n",
       " ('https://theweekinchess.com/zips/twic1547g.zip', 1547),\n",
       " ('https://theweekinchess.com/zips/twic1546g.zip', 1546)]"
      ]
     },
     "execution_count": 87,
     "metadata": {},
     "output_type": "execute_result"
    }
   ],
   "source": [
    "a=list(zip(links,folios))\n",
    "a\n"
   ]
  },
  {
   "cell_type": "code",
   "execution_count": 1,
   "metadata": {},
   "outputs": [
    {
     "name": "stdout",
     "output_type": "stream",
     "text": [
      "File twic1549.zip downloaded successfully!\n",
      "File twic1548.zip downloaded successfully!\n",
      "File twic1547.zip downloaded successfully!\n",
      "File twic1546.zip downloaded successfully!\n"
     ]
    }
   ],
   "source": [
    "import requests\n",
    "\n",
    "def req_links(itera):\n",
    "    url = itera[0]\n",
    "    folio = itera[1]\n",
    "    headers = {\"user-agent\": \"Mozilla/5.0 (Windows NT 10.0; Win64; x64) AppleWebKit/537.36 (KHTML, like Gecko) Chrome/126.0.0.0 Safari/537.36 OPR/112.0.0.0\"}\n",
    "    r = requests.get(url, headers=headers)\n",
    "    if r.status_code == 200:\n",
    "        # Save the content to a file\n",
    "        with open(fr\"C:\\Users\\Dell-G3\\Downloads\\twic{folio}.zip\", \"wb\") as file:\n",
    "            file.write(r.content)\n",
    "        print(f\"File twic{folio}.zip downloaded successfully!\")\n",
    "    else:\n",
    "        print(f\"Failed to download file twic{folio}.zip. Status code: {r.status_code}\")\n",
    "\n",
    "folios = list(range(1549, 1545, -1))       \n",
    "links = [f'https://theweekinchess.com/zips/twic{fol}g.zip' for fol in folios]\n",
    "list_of_urls_and_folios = list(zip(links, folios))\n",
    "\n",
    "for itera in list_of_urls_and_folios:\n",
    "    req_links(itera)"
   ]
  },
  {
   "cell_type": "code",
   "execution_count": null,
   "metadata": {},
   "outputs": [],
   "source": [
    "#IMPORTANT THIS ONLY WORKS AS A STAND ALONE .py FILE. IN GENERAL JUPYTER NOTEBOOK HAS PROBLEMS DEALING WITH MULTIPROCESSING\n",
    "from multiprocessing import Pool\n",
    "import requests\n",
    "\n",
    "def download_file(itera):\n",
    "    url = itera[0]\n",
    "    folio = itera[1]\n",
    "    headers = {\"user-agent\": \"Mozilla/5.0 (Windows NT 10.0; Win64; x64) AppleWebKit/537.36 (KHTML, like Gecko) Chrome/126.0.0.0 Safari/537.36 OPR/112.0.0.0\"}\n",
    "    r = requests.get(url, headers=headers)\n",
    "    if r.status_code == 200:\n",
    "        with open(fr\"C:\\Users\\Dell-G3\\Downloads\\twic{folio}.zip\", \"wb\") as file:\n",
    "            file.write(r.content)\n",
    "        return f\"File twic{folio}.zip downloaded successfully!\"\n",
    "    else:\n",
    "        return f\"Failed to download file twic{folio}.zip. Status code: {r.status_code}\"\n",
    "\n",
    "if __name__ == '__main__':\n",
    "    folios = list(range(1549, 1545, -1))\n",
    "    links = [f'https://theweekinchess.com/zips/twic{fol}g.zip' for fol in folios]\n",
    "    list_of_urls_and_folios = list(zip(links, folios))\n",
    "\n",
    "    with Pool(processes=4) as pool:\n",
    "        results = pool.map(download_file, list_of_urls_and_folios)\n",
    "    \n",
    "    for result in results:\n",
    "        print(result)\n"
   ]
  },
  {
   "cell_type": "code",
   "execution_count": null,
   "metadata": {},
   "outputs": [],
   "source": []
  }
 ],
 "metadata": {
  "kernelspec": {
   "display_name": "Python 3 (ipykernel)",
   "language": "python",
   "name": "python3"
  },
  "language_info": {
   "codemirror_mode": {
    "name": "ipython",
    "version": 3
   },
   "file_extension": ".py",
   "mimetype": "text/x-python",
   "name": "python",
   "nbconvert_exporter": "python",
   "pygments_lexer": "ipython3",
   "version": "3.10.9"
  }
 },
 "nbformat": 4,
 "nbformat_minor": 4
}
